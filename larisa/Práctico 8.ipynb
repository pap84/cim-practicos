{
 "cells": [
  {
   "cell_type": "markdown",
   "metadata": {},
   "source": [
    "### Curso de imágenes - Especialidad I (2018) - FAMAF-UNC\n",
    "\n",
    "**Alumna: L. Fischer**\n",
    "\n",
    "# Trabajo practico nº 8"
   ]
  },
  {
   "cell_type": "markdown",
   "metadata": {},
   "source": [
    "## Ejercicio 1:\n",
    "\n",
    "Realizar una simulacion determinista de la formacion de la imagen generada en un plano de detección por contraste de absorción de una esfera de radio R cuyo centro dista L del plano de deteccion y dentro de la misma existe un punto de emision de fotones de 40 keV en el centro de la esfera.\n",
    "Estudiar el efecto de los parámetros R y L. La fuente consta de 10 mCi.\n",
    "Interpretar los resultados obtenidos de acuerdo con la figura 1.\n",
    "\n"
   ]
  },
  {
   "cell_type": "markdown",
   "metadata": {},
   "source": [
    "## Ejercicio 2:\n",
    "\n",
    "Repetir  el  ejercicio  del  item  anterior  utilizando  el  codigo  PENELOPE. Estudiar los sistemas de colimacion que se requieren. Analizar y discutir los resultados obtenidos."
   ]
  },
  {
   "cell_type": "markdown",
   "metadata": {},
   "source": [
    "## Ejercicio 3:\n",
    "\n",
    "Realizar una simulacion Monte Carlo analoga al item anterior pero colocando 3 fuentes puntales dentro de la esfera."
   ]
  },
  {
   "cell_type": "markdown",
   "metadata": {},
   "source": [
    "## Ejercicio 4:\n",
    "\n",
    "Implementar el metodo de aceptación/rechazo para modelar la emision de una  fuente  de 99 mTc  uniformemente  distibuida  en  un  cubo  de  1  cm de lado inmerso en una esfera 10 cm de di ́ametro. Realizar simulaciones determinista y Monte Carlo de lo que reprentaría el imaging con cámara gamma."
   ]
  },
  {
   "cell_type": "code",
   "execution_count": null,
   "metadata": {},
   "outputs": [],
   "source": []
  }
 ],
 "metadata": {
  "kernelspec": {
   "display_name": "Python [conda env:imagenes-ayv]",
   "language": "python",
   "name": "conda-env-imagenes-ayv-py"
  },
  "language_info": {
   "codemirror_mode": {
    "name": "ipython",
    "version": 3
   },
   "file_extension": ".py",
   "mimetype": "text/x-python",
   "name": "python",
   "nbconvert_exporter": "python",
   "pygments_lexer": "ipython3",
   "version": "3.5.5"
  }
 },
 "nbformat": 4,
 "nbformat_minor": 2
}
