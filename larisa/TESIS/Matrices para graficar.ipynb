{
 "cells": [
  {
   "cell_type": "markdown",
   "metadata": {},
   "source": [
    "Te dejo armadas las matrices para graficar las salas. Recorda sala 1 o sala de control. Sala 2 o sala de preparación de muestras. Sala 4 o depósito."
   ]
  },
  {
   "cell_type": "code",
   "execution_count": 16,
   "metadata": {},
   "outputs": [],
   "source": [
    "import numpy as np\n"
   ]
  },
  {
   "cell_type": "markdown",
   "metadata": {},
   "source": [
    "Las matrices que corresponden a la sala 1. sala1_fondo es con el equipo apagado, sala1_rad es con el equipo prendido.\n",
    "\n",
    "Las matrices tienen 6 columnas y 7 filas. La primer fila corresponde a los puntos [1,2,3,4,5,6] que son los que estan contra la pared que da a químicas osea: pto1: 23, pto2:19, pto3: 21....\n",
    "\n",
    "Si no se entiende en el plano donde estan los puntos te mando la foto que tengo del plano marcado. \n"
   ]
  },
  {
   "cell_type": "code",
   "execution_count": 17,
   "metadata": {},
   "outputs": [],
   "source": [
    "sala1_fondo = np.array([[23,19,21,19,20,18],[21,24,21,19,19,18],[19,19,21,20,19,18],[19,19,20,22,22,17],\n",
    "                        [21,19,21,20,17,18],[19,16,21,19,18,20],[19,17,18,17,20,21]])\n",
    "\n",
    "sala1_rad = np.array([[27,28,26,25,22,22],[19,24,25,23,25,20],[32,25,23,23,20,21],[31,26,25,24,25,23],\n",
    "                      [24,24,27,25,18,23],[20,22,23,21,25,20],[16,24,24,19,26,24]])"
   ]
  },
  {
   "cell_type": "markdown",
   "metadata": {},
   "source": [
    "Matrices de sala 2 o la sala de preparacion de muestras. de vuelta la primer fila corresponde a [43,44,45]"
   ]
  },
  {
   "cell_type": "code",
   "execution_count": 18,
   "metadata": {},
   "outputs": [],
   "source": [
    "sala2_fondo = np.array([[21,18,20],[20,19,21],[19,17,18]])\n",
    "\n",
    "sala2_rad = np.array([[24,22,22],[27,27,22],[24,23,26]])\n",
    "                       "
   ]
  },
  {
   "cell_type": "markdown",
   "metadata": {},
   "source": [
    "Deposito que esta sobre el bunker, estos datos no se si agregarlos porque las mediciones de fondo son mayores que las que se obtienen cuando hay radiacion.\n",
    "\n",
    "Los puntos corresponden a las 4 esquinas del deposito siendo (ejemplo primer matriz):\n",
    "* 29---> punto sobre el equipo \n",
    "* 24---> punto sobre la pared donde choca el haz (union pared quimicas y las of 101,102)\n",
    "* 28---> punto sobre la puerta de acceso al bunker\n",
    "* 30---> punto en la equina pared oficinas 101, 102 y la pared que da al ascensor."
   ]
  },
  {
   "cell_type": "code",
   "execution_count": 20,
   "metadata": {},
   "outputs": [],
   "source": [
    "deposito_fondo = np.array([[29,24],[28,30]])\n",
    "\n",
    "deposito_rad = np.array([[26,28],[25,24]])"
   ]
  },
  {
   "cell_type": "code",
   "execution_count": null,
   "metadata": {},
   "outputs": [],
   "source": []
  }
 ],
 "metadata": {
  "kernelspec": {
   "display_name": "Python [conda env:imagenes-ayv]",
   "language": "python",
   "name": "conda-env-imagenes-ayv-py"
  },
  "language_info": {
   "codemirror_mode": {
    "name": "ipython",
    "version": 3
   },
   "file_extension": ".py",
   "mimetype": "text/x-python",
   "name": "python",
   "nbconvert_exporter": "python",
   "pygments_lexer": "ipython3",
   "version": "3.5.5"
  }
 },
 "nbformat": 4,
 "nbformat_minor": 2
}
