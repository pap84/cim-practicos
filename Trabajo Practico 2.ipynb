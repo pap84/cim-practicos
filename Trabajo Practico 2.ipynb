{
 "cells": [
  {
   "cell_type": "markdown",
   "metadata": {},
   "source": [
    "### Curso de imágenes - Especialidad I (2018) - FAMAF-UNC\n",
    "\n",
    "# Trabajo práctico Nº 2\n",
    "\n",
    "**Profesor:** P. Pérez\n",
    "\n",
    "Los ejercicios comprenden la segunda mitad del **Capítulo II** del curso, correspondiente a la manipulación y procesamiento de imágenes digitales. \n",
    "\n",
    "Los trabajos deben ser entregados en **formato PDF** especificando código de programación utilizado, funciones implementadas y resultados obtenidos, o en una **Notebook de Jupyter** subida al repositorio de **Github** y *corrida* para que al corregir no sea necesario correr código. \n",
    "\n",
    "Se aceptarán trabajos realizados en plataformas Matlab y Python."
   ]
  },
  {
   "cell_type": "code",
   "execution_count": null,
   "metadata": {},
   "outputs": [],
   "source": []
  }
 ],
 "metadata": {
  "kernelspec": {
   "display_name": "Python [conda env:imagenes-ayv]",
   "language": "python",
   "name": "conda-env-imagenes-ayv-py"
  },
  "language_info": {
   "codemirror_mode": {
    "name": "ipython",
    "version": 3
   },
   "file_extension": ".py",
   "mimetype": "text/x-python",
   "name": "python",
   "nbconvert_exporter": "python",
   "pygments_lexer": "ipython3",
   "version": "3.5.5"
  }
 },
 "nbformat": 4,
 "nbformat_minor": 2
}
