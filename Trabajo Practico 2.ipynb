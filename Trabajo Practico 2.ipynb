{
 "cells": [
  {
   "cell_type": "markdown",
   "metadata": {},
   "source": [
    "### Curso de imágenes - Especialidad I (2018) - FAMAF-UNC\n",
    "\n",
    "# Trabajo práctico Nº 2\n",
    "\n",
    "**Profesor:** P. Pérez\n",
    "\n",
    "Los ejercicios comprenden la segunda mitad del **Capítulo II** del curso, correspondiente a la manipulación y procesamiento de imágenes digitales. \n",
    "\n",
    "Los trabajos deben ser entregados en **formato PDF** especificando código de programación utilizado, funciones implementadas y resultados obtenidos, o en una **Notebook de Jupyter** subida al repositorio de **Github** y *corrida* para que al corregir no sea necesario correr código. \n",
    "\n",
    "Se aceptarán trabajos realizados en plataformas Matlab y Python."
   ]
  },
  {
   "cell_type": "markdown",
   "metadata": {},
   "source": [
    "## Ejercicio 1\n",
    "\n",
    "**Estudiar el algoritmo de Fast Fourier Transform - FFT implementado en MatLab o Python para utilizar la versión 2D para calcular la transformada de Fourier de una imagen médica.**\n",
    "\n",
    "Vamos a utilizar una imagen de la librería libre para investigadores http://www.pcir.org/researchers/index.html. Estas imagenes están anonimizadas y pueden ser utilizadas \"*con cualquier fin*\", según el propio sitio. La imagen que vamos a utilizar es la que se puede descargar de http://www.pcir.org/researchers/54879843_20060101.html. **Por el tamaño de la carpeta, no se subirá a Github, por lo que se recomienda descargar en laptop personal**."
   ]
  },
  {
   "cell_type": "code",
   "execution_count": 1,
   "metadata": {},
   "outputs": [],
   "source": [
    "%matplotlib inline\n",
    "from PIL import Image\n",
    "import matplotlib.pyplot as plt"
   ]
  },
  {
   "cell_type": "code",
   "execution_count": 2,
   "metadata": {},
   "outputs": [],
   "source": [
    "# busco la imagen\n",
    "dicom = 'img/dicom/dicom/pierre/crane/001/1.dcm'"
   ]
  },
  {
   "cell_type": "markdown",
   "metadata": {},
   "source": [
    "Para poder ver cómo manejar imágenes Dicom con Python se recomienda la página: https://pyscience.wordpress.com/2014/09/08/dicom-in-python-importing-medical-image-data-into-numpy-with-pydicom-and-vtk/"
   ]
  },
  {
   "cell_type": "code",
   "execution_count": 3,
   "metadata": {},
   "outputs": [],
   "source": [
    "import pydicom as pdc\n",
    "import os\n",
    "import numpy\n",
    "from matplotlib import pyplot, cm"
   ]
  },
  {
   "cell_type": "code",
   "execution_count": 7,
   "metadata": {},
   "outputs": [
    {
     "data": {
      "image/png": "[encoded data removed]",
      "text/plain": [
       "<Figure size 432x288 with 1 Axes>"
      ]
     },
     "metadata": {},
     "output_type": "display_data"
    }
   ],
   "source": [
    "from pydicom.data import get_testdata_files\n",
    "ds = pdc.dcmread(dicom)\n",
    "plt.imshow(ds.pixel_array, cmap=cm.gray, vmin=0, vmax=255)\n",
    "plt.show()"
   ]
  },
  {
   "cell_type": "code",
   "execution_count": null,
   "metadata": {},
   "outputs": [],
   "source": []
  }
 ],
 "metadata": {
  "kernelspec": {
   "display_name": "Python [conda env:imagenes-ayv]",
   "language": "python",
   "name": "conda-env-imagenes-ayv-py"
  },
  "language_info": {
   "codemirror_mode": {
    "name": "ipython",
    "version": 3
   },
   "file_extension": ".py",
   "mimetype": "text/x-python",
   "name": "python",
   "nbconvert_exporter": "python",
   "pygments_lexer": "ipython3",
   "version": "3.5.5"
  }
 },
 "nbformat": 4,
 "nbformat_minor": 2
}
